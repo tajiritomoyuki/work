{
 "cells": [
  {
   "cell_type": "code",
   "execution_count": 1,
   "metadata": {},
   "outputs": [
    {
     "name": "stderr",
     "output_type": "stream",
     "text": [
      "Using TensorFlow backend.\n"
     ]
    }
   ],
   "source": [
    "import os\n",
    "import glob\n",
    "import numpy as np\n",
    "import pandas as pd\n",
    "\n",
    "import keras\n",
    "from keras.models import Sequential\n",
    "from keras.layers import Dense, Dropout\n",
    "from keras.optimizers import RMSprop"
   ]
  },
  {
   "cell_type": "code",
   "execution_count": 2,
   "metadata": {},
   "outputs": [],
   "source": [
    "batch_size = 128\n",
    "num_classes = 10\n",
    "epochs = 20"
   ]
  },
  {
   "cell_type": "code",
   "execution_count": 26,
   "metadata": {},
   "outputs": [],
   "source": [
    "npzpath = \"data/1_1.npz\""
   ]
  },
  {
   "cell_type": "code",
   "execution_count": 27,
   "metadata": {},
   "outputs": [],
   "source": [
    "data = np.load(npzpath)"
   ]
  },
  {
   "cell_type": "code",
   "execution_count": 29,
   "metadata": {},
   "outputs": [
    {
     "data": {
      "text/plain": [
       "array([[0.98665658, 0.99028867, 0.99392077, ..., 1.02081561, 1.02081561,\n",
       "        1.02081561],\n",
       "       [1.00915378, 1.00948536, 1.00981694, ..., 0.99352461, 0.99352461,\n",
       "        0.99352461],\n",
       "       [1.00179592, 1.00155824, 1.00132057, ..., 0.99896711, 0.99896711,\n",
       "        0.99896711],\n",
       "       ...,\n",
       "       [0.98771323, 0.97590294, 0.96409266, ..., 0.9991166 , 0.9991166 ,\n",
       "        0.9991166 ],\n",
       "       [0.99374638, 0.9936091 , 0.99347182, ..., 1.00810254, 1.00810254,\n",
       "        1.00810254],\n",
       "       [0.99936341, 0.99931827, 0.99927314, ..., 1.00127423, 1.00127423,\n",
       "        1.00127423]])"
      ]
     },
     "execution_count": 29,
     "metadata": {},
     "output_type": "execute_result"
    }
   ],
   "source": [
    "data[\"data\"]"
   ]
  },
  {
   "cell_type": "code",
   "execution_count": null,
   "metadata": {},
   "outputs": [],
   "source": []
  }
 ],
 "metadata": {
  "kernelspec": {
   "display_name": "Python 3",
   "language": "python",
   "name": "python3"
  },
  "language_info": {
   "codemirror_mode": {
    "name": "ipython",
    "version": 3
   },
   "file_extension": ".py",
   "mimetype": "text/x-python",
   "name": "python",
   "nbconvert_exporter": "python",
   "pygments_lexer": "ipython3",
   "version": "3.7.1"
  }
 },
 "nbformat": 4,
 "nbformat_minor": 2
}
